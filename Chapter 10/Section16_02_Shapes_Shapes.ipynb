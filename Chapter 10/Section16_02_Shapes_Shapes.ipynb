{
 "cells": [
  {
   "cell_type": "code",
   "execution_count": 6,
   "metadata": {
    "scrolled": true
   },
   "outputs": [
    {
     "data": {
      "image/png": "[encoded data removed]",
      "text/plain": [
       "<Figure size 432x288 with 1 Axes>"
      ]
     },
     "metadata": {},
     "output_type": "display_data"
    }
   ],
   "source": [
    "%matplotlib inline\n",
    "import matplotlib.pyplot as plt\n",
    "import math\n",
    "import numpy as np\n",
    "from skimage.draw import (line, polygon, circle,\n",
    "                          circle_perimeter,\n",
    "                          ellipse, ellipse_perimeter,\n",
    "                          bezier_curve)\n",
    "\n",
    "img = np.zeros((512, 512, 3), dtype=np.double)\n",
    "\n",
    "rr, cc = line(125, 125, 10, 300)\n",
    "img[rr, cc, 1] = 1\n",
    "\n",
    "poly = np.array((\n",
    "    (300, 300),\n",
    "    (480, 320),\n",
    "    (380, 430),\n",
    "    (220, 590),\n",
    "    (300, 300),\n",
    "))\n",
    "rr, cc = polygon(poly[:, 0], poly[:, 1], img.shape)\n",
    "img[rr, cc, 1] = 1\n",
    "\n",
    "rr, cc = circle(250, 250, 50, img.shape)\n",
    "img[rr, cc, :] = (1, 1, 0)\n",
    "\n",
    "rr, cc = ellipse(300, 300, 150, 200, img.shape)\n",
    "img[rr, cc, 2] = 1\n",
    "\n",
    "rr, cc = circle_perimeter(200, 300, 15)\n",
    "img[rr, cc, :] = (0.5, 0, 0)\n",
    "\n",
    "rr, cc = bezier_curve(70, 100, 10, 10, 150, 100, 1)\n",
    "img[rr, cc, :] = (1, 0, 0)\n",
    "\n",
    "rr, cc = ellipse_perimeter(120, 400, 60, 20, orientation=math.pi / 4.)\n",
    "img[rr, cc, :] = (1, 0, 1)\n",
    "\n",
    "rr, cc = ellipse_perimeter(120, 400, 60, 20, orientation=-math.pi / 4.)\n",
    "img[rr, cc, :] = (0, 0, 1)\n",
    "\n",
    "rr, cc = ellipse_perimeter(120, 400, 60, 20, orientation=math.pi / 2.)\n",
    "img[rr, cc, :] = (1, 1, 1)\n",
    "\n",
    "plt.imshow(img)\n",
    "plt.title('Shapes')\n",
    "plt.xticks([])\n",
    "plt.yticks([])\n",
    "plt.show()"
   ]
  },
  {
   "cell_type": "code",
   "execution_count": 7,
   "metadata": {},
   "outputs": [
    {
     "data": {
      "image/png": "[encoded data removed]",
      "text/plain": [
       "<Figure size 432x288 with 1 Axes>"
      ]
     },
     "metadata": {},
     "output_type": "display_data"
    }
   ],
   "source": [
    "from skimage.draw import line_aa, circle_perimeter_aa\n",
    "\n",
    "img = np.zeros((512, 512, 3), dtype=np.double)\n",
    "\n",
    "rr, cc, val = line_aa(12, 12, 220, 250)\n",
    "img[rr, cc, :] = [1, 1, 1]\n",
    "\n",
    "rr, cc, val = circle_perimeter_aa(90, 90, 60)\n",
    "img[rr, cc, :] = [1, 1, 1]\n",
    "\n",
    "plt.imshow(img)\n",
    "plt.title('Shapes')\n",
    "plt.xticks([])\n",
    "plt.yticks([])\n",
    "plt.show()"
   ]
  },
  {
   "cell_type": "code",
   "execution_count": 10,
   "metadata": {},
   "outputs": [
    {
     "data": {
      "image/png": "[encoded data removed]",
      "text/plain": [
       "<Figure size 432x288 with 4 Axes>"
      ]
     },
     "metadata": {},
     "output_type": "display_data"
    }
   ],
   "source": [
    "from skimage.draw import random_shapes\n",
    "\n",
    "image0, _ = random_shapes((128, 128), max_shapes=1, shape='rectangle',\n",
    "                       multichannel=False)\n",
    "\n",
    "image1, _ = random_shapes((128, 128), max_shapes=1, shape='circle')\n",
    "\n",
    "image2, _ = random_shapes((128, 128), max_shapes=10,\n",
    "                          intensity_range=((100, 255),))\n",
    "\n",
    "image3, _ = random_shapes((128, 128), min_shapes=5, max_shapes=10,\n",
    "                         min_size=20, allow_overlap=True)\n",
    "\n",
    "\n",
    "images = [image0, image1, image2, image3]\n",
    "\n",
    "for i in range(4):\n",
    "    plt.subplot(2, 2, i+1)\n",
    "    if i == 0:\n",
    "        plt.imshow(images[i], cmap='gray')\n",
    "    else:\n",
    "        plt.imshow(images[i])\n",
    "\n",
    "plt.show()"
   ]
  }
 ],
 "metadata": {
  "kernelspec": {
   "display_name": "Python 3",
   "language": "python",
   "name": "python3"
  },
  "language_info": {
   "codemirror_mode": {
    "name": "ipython",
    "version": 3
   },
   "file_extension": ".py",
   "mimetype": "text/x-python",
   "name": "python",
   "nbconvert_exporter": "python",
   "pygments_lexer": "ipython3",
   "version": "3.5.3"
  }
 },
 "nbformat": 4,
 "nbformat_minor": 2
}
